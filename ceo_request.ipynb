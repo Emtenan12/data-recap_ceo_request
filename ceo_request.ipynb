{
 "cells": [
  {
   "cell_type": "markdown",
   "metadata": {},
   "source": [
    "# CEO-Request Challenge"
   ]
  },
  {
   "cell_type": "markdown",
   "metadata": {},
   "source": [
    "## 1. Summary of Problem Statement"
   ]
  },
  {
   "cell_type": "markdown",
   "metadata": {},
   "source": [
    "❓ **How could Olist improve its profit** ❓"
   ]
  },
  {
   "cell_type": "markdown",
   "metadata": {},
   "source": [
    "### P&L Rules"
   ]
  },
  {
   "cell_type": "markdown",
   "metadata": {},
   "source": [
    "#### Revenues  \n",
    "**Sales fees:** Olist takes a **10% cut** on the product price (excl. freight) of each order delivered  \n",
    "**Subscription fees:** Olist charges **80 BRL per month** per seller\n",
    "\n",
    "#### Costs\n",
    "_Estimated_ **reputation costs** of orders with bad reviews (<= 3 stars)  \n",
    "\n",
    "💡 In the long term, bad customer experience has business implications: low repeat rate, immediate customer support cost, refunds or unfavorable word of mouth communication. We make an assumption about the monetary cost for each bad review:\n",
    "```python\n",
    "# review_score: cost(BRL)\n",
    "{'1 star': 100\n",
    " '2 stars': 50\n",
    " '3 stars': 40\n",
    " '4 stars': 0\n",
    " '5 stars': 0}\n",
    "```\n",
    "\n",
    "**IT costs:** Olist's **total cumulated IT Costs** scale with the square root of the total number of sellers that have ever joined the platform, as well as with the square root of the total cumulated number of items that were ever sold.\n",
    "\n",
    "$IT\\_costs = \\alpha * \\sqrt{n\\_sellers} + \\beta * \\sqrt{n\\_items}$  \n",
    "Olist's data team gave us the following values for these scaling parameters:\n",
    "- $\\alpha = 3157.27$\n",
    "- $\\beta = 978.23$\n",
    "\n",
    "💡 Both the number of sellers to manage and the number of sales transaction are costly for IT systems.  \n",
    "💡 Yet square roots reflect scale-effects: IT-system are often more efficient as they grow bigger.  \n",
    "💡 Alpha > Beta means that Olist has a lower IT Cost with few sellers selling a lot of items rather than the opposite  \n",
    "- with **1000 sellers** and a total of **100 items** sold, the total IT cost accumulates to 109,624 BRL\n",
    "- with **100 sellers** and a total of **1000 items** sold, the total IT cost accumulates to 62,507 BRL\n",
    "\n",
    "Finally, The IT department also told you that since the birth of the marketplace, cumulated IT costs have amounted to **500,000 BRL**."
   ]
  },
  {
   "cell_type": "markdown",
   "metadata": {},
   "source": [
    "### Key Findings, so far"
   ]
  },
  {
   "cell_type": "markdown",
   "metadata": {},
   "source": [
    "- `wait_time` is the most significant factor behind low review scores.\n",
    "- `wait_time` is made up of seller's `delay_to_carrier` + `carrier_delivery_time`.\n",
    "- Because the carrier's delivery time is out of Olist's direct control, improving it is not a quick-win recommendation.\n",
    "- On the contrary, a better selection of `sellers` can positively impact the `delay_to_carrier` and reduce the number of bad `review_scores` on Olist.\n",
    "- Comments in the bad reviews showed that some were linked to the seller or to the product itself."
   ]
  },
  {
   "cell_type": "markdown",
   "metadata": {},
   "source": [
    "💡 We recommend you to start with the the guided seller analysis in part 2 below.\n",
    "\n",
    "💪 But feel free to investigate other hypothesis instead with part 3."
   ]
  },
  {
   "cell_type": "markdown",
   "metadata": {},
   "source": [
    "## 2. Should Olist remove under-performing sellers from its marketplace? 🕵🏻\n",
    "*(recommended)*"
   ]
  },
  {
   "cell_type": "markdown",
   "metadata": {},
   "source": [
    "To analyze the impact of removing the worst sellers from Olist's marketplace, we will perform a **what-if analysis**\n",
    "\n",
    "👉 **What would have happened if Olist had never accepted these sellers in the first place?**  \n",
    "\n",
    "*(In practice, it's hard to know in advance who is a good seller, but let's start with this approach and iterate later).*"
   ]
  },
  {
   "cell_type": "markdown",
   "metadata": {},
   "source": [
    "### 2.1 Data Preparation"
   ]
  },
  {
   "cell_type": "markdown",
   "metadata": {},
   "source": [
    "Compute, for each `seller_id`, and cumulated since the beginning:\n",
    "- the `revenues` the seller brings\n",
    "- the `review_costs` associated with the seller's bad reviews\n",
    "- the resulting `profits` (revenues - costs)\n",
    "\n",
    "👉 Write down a step-by-step strategy to create the DataFrame you need.\n",
    "\n",
    "\n",
    "⚠️ Don't start from scratch, update your existing package! 😉\n",
    "\n",
    "Starting from the `Seller` class of your `olist` package:\n",
    "\n",
    "Edit the `get_training_data` method so that the DataFrame it returns contains the fields:\n",
    "- `revenues`: sum of subscription and sales fees revenues\n",
    "- `cost_of_reviews`: sum of costs associated with bad reviews\n",
    "- `profits`: `revenues` - `cost_of_reviews`"
   ]
  },
  {
   "cell_type": "code",
   "execution_count": 1,
   "metadata": {
    "execution": {
     "iopub.execute_input": "2025-09-17T19:42:19.816379Z",
     "iopub.status.busy": "2025-09-17T19:42:19.815364Z",
     "iopub.status.idle": "2025-09-17T19:42:22.435884Z",
     "shell.execute_reply": "2025-09-17T19:42:22.434813Z",
     "shell.execute_reply.started": "2025-09-17T19:42:19.816319Z"
    }
   },
   "outputs": [],
   "source": [
    "import pandas as pd\n",
    "import numpy as np\n",
    "import matplotlib.pyplot as plt\n",
    "import seaborn as sns\n",
    "from olist.seller import Seller"
   ]
  },
  {
   "cell_type": "markdown",
   "metadata": {},
   "source": [
    "### 2.2 What-if Analysis"
   ]
  },
  {
   "cell_type": "markdown",
   "metadata": {},
   "source": [
    "👉 Time to perform the actual analysis, here are our steps:  \n",
    "\n",
    "1️⃣ Write a function that will calculate IT costs based on two parameters: number of sellers and number of items.\n",
    "\n",
    "2️⃣ Load the sellers data and sort them by decreasing profits (before IT costs).\n",
    "\n",
    "3️⃣ Calculate profits:\n",
    "   - Calculate the cumulative profits for each row.\n",
    "   - Calculate the cumulative IT costs for each row using the function you defined before.\n",
    "   - Calculate the cumulative net profit for each row.\n",
    "\n",
    "4️⃣ Plot your results, and analyze them.\n",
    "\n",
    "5️⃣ Determine the optimum number of sellers to keep, based on profits before and after IT costs. (Hint: look up `np.argmax`). What would have been the impact on:\n",
    "   - Net profit after IT costs?\n",
    "   - Net profit before IT costs\n",
    "   - IT costs?\n",
    "   - Total revenues?\n",
    "   - Number of sellers?\n",
    "   - Number of items sold?\n",
    "\n",
    "6️⃣ How important were the IT costs in your analysis?"
   ]
  },
  {
   "cell_type": "markdown",
   "metadata": {},
   "source": [
    "#### Step 1️⃣"
   ]
  },
  {
   "cell_type": "code",
   "execution_count": 2,
   "metadata": {
    "execution": {
     "iopub.execute_input": "2025-09-17T19:42:22.437471Z",
     "iopub.status.busy": "2025-09-17T19:42:22.436865Z",
     "iopub.status.idle": "2025-09-17T19:42:22.443831Z",
     "shell.execute_reply": "2025-09-17T19:42:22.442506Z",
     "shell.execute_reply.started": "2025-09-17T19:42:22.437446Z"
    }
   },
   "outputs": [
    {
     "name": "stdout",
     "output_type": "stream",
     "text": [
      "1000 sellers, 100 items: 109,624 BRL\n",
      "100 sellers, 1000 items: 62,507 BRL\n"
     ]
    }
   ],
   "source": [
    "# 1️⃣ Write a function that will calculate IT costs based on two parameters\n",
    "def calculate_it_costs(n_sellers, n_items):\n",
    "    alpha = 3157.27\n",
    "    beta = 978.23\n",
    "    return alpha * np.sqrt(n_sellers) + beta * np.sqrt(n_items)\n",
    "\n",
    "# Test with examples from the challenge\n",
    "print(f\"1000 sellers, 100 items: {calculate_it_costs(1000, 100):,.0f} BRL\")\n",
    "print(f\"100 sellers, 1000 items: {calculate_it_costs(100, 1000):,.0f} BRL\")"
   ]
  },
  {
   "cell_type": "markdown",
   "metadata": {},
   "source": [
    "#### Step 2️⃣ (Load the sellers data and sort them by decreasing profits (before IT costs)\n"
   ]
  },
  {
   "cell_type": "code",
   "execution_count": 13,
   "metadata": {
    "execution": {
     "iopub.execute_input": "2025-09-18T05:59:38.957118Z",
     "iopub.status.busy": "2025-09-18T05:59:38.956732Z",
     "iopub.status.idle": "2025-09-18T05:59:47.982791Z",
     "shell.execute_reply": "2025-09-18T05:59:47.981411Z",
     "shell.execute_reply.started": "2025-09-18T05:59:38.957094Z"
    }
   },
   "outputs": [
    {
     "name": "stderr",
     "output_type": "stream",
     "text": [
      "/home/emtenan/code/Emtenan12/04-Decision-Science/01-Project-Setup/data-context-and-setup/olist/seller.py:53: FutureWarning: DataFrameGroupBy.apply operated on the grouping columns. This behavior is deprecated, and in a future version of pandas the grouping columns will be excluded from the operation. Either pass `include_groups=False` to exclude the groupings or explicitly select the grouping columns after groupby to silence this warning.\n",
      "  delay = ship.groupby('seller_id').apply(delay_to_logistic_partner).reset_index()\n",
      "/home/emtenan/code/Emtenan12/04-Decision-Science/01-Project-Setup/data-context-and-setup/olist/seller.py:56: FutureWarning: DataFrameGroupBy.apply operated on the grouping columns. This behavior is deprecated, and in a future version of pandas the grouping columns will be excluded from the operation. Either pass `include_groups=False` to exclude the groupings or explicitly select the grouping columns after groupby to silence this warning.\n",
      "  wait = ship.groupby('seller_id').apply(order_wait_time).reset_index()\n",
      "/home/emtenan/code/Emtenan12/04-Decision-Science/01-Project-Setup/data-context-and-setup/olist/seller.py:73: FutureWarning: The provided callable <built-in function min> is currently using SeriesGroupBy.min. In a future version of pandas, the provided callable will be used directly. To keep current behavior pass the string \"min\" instead.\n",
      "  df = orders_sellers.groupby('seller_id').agg({\"date_first_sale\": min, \"date_last_sale\": max})\n",
      "/home/emtenan/code/Emtenan12/04-Decision-Science/01-Project-Setup/data-context-and-setup/olist/seller.py:73: FutureWarning: The provided callable <built-in function max> is currently using SeriesGroupBy.max. In a future version of pandas, the provided callable will be used directly. To keep current behavior pass the string \"max\" instead.\n",
      "  df = orders_sellers.groupby('seller_id').agg({\"date_first_sale\": min, \"date_last_sale\": max})\n"
     ]
    },
    {
     "data": {
      "text/html": [
       "<div>\n",
       "<style scoped>\n",
       "    .dataframe tbody tr th:only-of-type {\n",
       "        vertical-align: middle;\n",
       "    }\n",
       "\n",
       "    .dataframe tbody tr th {\n",
       "        vertical-align: top;\n",
       "    }\n",
       "\n",
       "    .dataframe thead th {\n",
       "        text-align: right;\n",
       "    }\n",
       "</style>\n",
       "<table border=\"1\" class=\"dataframe\">\n",
       "  <thead>\n",
       "    <tr style=\"text-align: right;\">\n",
       "      <th></th>\n",
       "      <th>seller_id</th>\n",
       "      <th>seller_city</th>\n",
       "      <th>seller_state</th>\n",
       "      <th>delay_to_carrier</th>\n",
       "      <th>wait_time</th>\n",
       "      <th>date_first_sale</th>\n",
       "      <th>date_last_sale</th>\n",
       "      <th>months_on_olist</th>\n",
       "      <th>n_orders</th>\n",
       "      <th>quantity</th>\n",
       "      <th>quantity_per_order</th>\n",
       "      <th>sales</th>\n",
       "      <th>review_score</th>\n",
       "      <th>share_of_five_stars</th>\n",
       "      <th>share_of_one_stars</th>\n",
       "      <th>cost_of_reviews</th>\n",
       "      <th>revenues</th>\n",
       "      <th>profits</th>\n",
       "    </tr>\n",
       "  </thead>\n",
       "  <tbody>\n",
       "    <tr>\n",
       "      <th>0</th>\n",
       "      <td>3442f8959a84dea7ee197c632cb2df15</td>\n",
       "      <td>campinas</td>\n",
       "      <td>SP</td>\n",
       "      <td>0.000000</td>\n",
       "      <td>13.018588</td>\n",
       "      <td>2017-05-05 16:25:11</td>\n",
       "      <td>2017-08-30 12:50:19</td>\n",
       "      <td>4.0</td>\n",
       "      <td>3</td>\n",
       "      <td>3</td>\n",
       "      <td>1.000000</td>\n",
       "      <td>218.70</td>\n",
       "      <td>3.00</td>\n",
       "      <td>0.33</td>\n",
       "      <td>0.33</td>\n",
       "      <td>140</td>\n",
       "      <td>341.870</td>\n",
       "      <td>201.870</td>\n",
       "    </tr>\n",
       "    <tr>\n",
       "      <th>1</th>\n",
       "      <td>d1b65fc7debc3361ea86b5f14c68d2e2</td>\n",
       "      <td>mogi guacu</td>\n",
       "      <td>SP</td>\n",
       "      <td>0.000000</td>\n",
       "      <td>9.065716</td>\n",
       "      <td>2017-03-29 02:10:34</td>\n",
       "      <td>2018-06-06 20:15:21</td>\n",
       "      <td>14.0</td>\n",
       "      <td>40</td>\n",
       "      <td>41</td>\n",
       "      <td>1.025000</td>\n",
       "      <td>11703.07</td>\n",
       "      <td>4.55</td>\n",
       "      <td>0.72</td>\n",
       "      <td>0.05</td>\n",
       "      <td>240</td>\n",
       "      <td>2290.307</td>\n",
       "      <td>2050.307</td>\n",
       "    </tr>\n",
       "    <tr>\n",
       "      <th>2</th>\n",
       "      <td>ce3ad9de960102d0677a81f5d0bb7b2d</td>\n",
       "      <td>rio de janeiro</td>\n",
       "      <td>RJ</td>\n",
       "      <td>0.000000</td>\n",
       "      <td>4.042292</td>\n",
       "      <td>2018-07-30 12:44:49</td>\n",
       "      <td>2018-07-30 12:44:49</td>\n",
       "      <td>0.0</td>\n",
       "      <td>1</td>\n",
       "      <td>1</td>\n",
       "      <td>1.000000</td>\n",
       "      <td>158.00</td>\n",
       "      <td>5.00</td>\n",
       "      <td>1.00</td>\n",
       "      <td>0.00</td>\n",
       "      <td>0</td>\n",
       "      <td>15.800</td>\n",
       "      <td>15.800</td>\n",
       "    </tr>\n",
       "    <tr>\n",
       "      <th>3</th>\n",
       "      <td>c0f3eea2e14555b6faeea3dd58c1b1c3</td>\n",
       "      <td>sao paulo</td>\n",
       "      <td>SP</td>\n",
       "      <td>0.000000</td>\n",
       "      <td>5.667187</td>\n",
       "      <td>2018-08-03 00:44:08</td>\n",
       "      <td>2018-08-03 00:44:08</td>\n",
       "      <td>0.0</td>\n",
       "      <td>1</td>\n",
       "      <td>1</td>\n",
       "      <td>1.000000</td>\n",
       "      <td>79.99</td>\n",
       "      <td>5.00</td>\n",
       "      <td>1.00</td>\n",
       "      <td>0.00</td>\n",
       "      <td>0</td>\n",
       "      <td>7.999</td>\n",
       "      <td>7.999</td>\n",
       "    </tr>\n",
       "    <tr>\n",
       "      <th>4</th>\n",
       "      <td>51a04a8a6bdcb23deccc82b0b80742cf</td>\n",
       "      <td>braganca paulista</td>\n",
       "      <td>SP</td>\n",
       "      <td>3.353727</td>\n",
       "      <td>35.314861</td>\n",
       "      <td>2017-11-14 12:15:25</td>\n",
       "      <td>2017-11-14 12:15:25</td>\n",
       "      <td>0.0</td>\n",
       "      <td>1</td>\n",
       "      <td>1</td>\n",
       "      <td>1.000000</td>\n",
       "      <td>167.99</td>\n",
       "      <td>1.00</td>\n",
       "      <td>0.00</td>\n",
       "      <td>1.00</td>\n",
       "      <td>100</td>\n",
       "      <td>16.799</td>\n",
       "      <td>-83.201</td>\n",
       "    </tr>\n",
       "    <tr>\n",
       "      <th>...</th>\n",
       "      <td>...</td>\n",
       "      <td>...</td>\n",
       "      <td>...</td>\n",
       "      <td>...</td>\n",
       "      <td>...</td>\n",
       "      <td>...</td>\n",
       "      <td>...</td>\n",
       "      <td>...</td>\n",
       "      <td>...</td>\n",
       "      <td>...</td>\n",
       "      <td>...</td>\n",
       "      <td>...</td>\n",
       "      <td>...</td>\n",
       "      <td>...</td>\n",
       "      <td>...</td>\n",
       "      <td>...</td>\n",
       "      <td>...</td>\n",
       "      <td>...</td>\n",
       "    </tr>\n",
       "    <tr>\n",
       "      <th>2962</th>\n",
       "      <td>98dddbc4601dd4443ca174359b237166</td>\n",
       "      <td>sarandi</td>\n",
       "      <td>PR</td>\n",
       "      <td>0.000000</td>\n",
       "      <td>8.230822</td>\n",
       "      <td>2018-07-14 03:10:19</td>\n",
       "      <td>2018-07-23 15:34:03</td>\n",
       "      <td>0.0</td>\n",
       "      <td>2</td>\n",
       "      <td>2</td>\n",
       "      <td>1.000000</td>\n",
       "      <td>158.00</td>\n",
       "      <td>5.00</td>\n",
       "      <td>1.00</td>\n",
       "      <td>0.00</td>\n",
       "      <td>0</td>\n",
       "      <td>15.800</td>\n",
       "      <td>15.800</td>\n",
       "    </tr>\n",
       "    <tr>\n",
       "      <th>2963</th>\n",
       "      <td>f8201cab383e484733266d1906e2fdfa</td>\n",
       "      <td>palhoca</td>\n",
       "      <td>SC</td>\n",
       "      <td>0.000000</td>\n",
       "      <td>13.045797</td>\n",
       "      <td>2017-06-17 15:30:11</td>\n",
       "      <td>2018-08-11 19:55:17</td>\n",
       "      <td>14.0</td>\n",
       "      <td>10</td>\n",
       "      <td>10</td>\n",
       "      <td>1.000000</td>\n",
       "      <td>889.00</td>\n",
       "      <td>4.10</td>\n",
       "      <td>0.50</td>\n",
       "      <td>0.10</td>\n",
       "      <td>140</td>\n",
       "      <td>1208.900</td>\n",
       "      <td>1068.900</td>\n",
       "    </tr>\n",
       "    <tr>\n",
       "      <th>2964</th>\n",
       "      <td>74871d19219c7d518d0090283e03c137</td>\n",
       "      <td>sao paulo</td>\n",
       "      <td>SP</td>\n",
       "      <td>0.000000</td>\n",
       "      <td>3.606625</td>\n",
       "      <td>2018-04-05 17:09:46</td>\n",
       "      <td>2018-08-21 19:25:15</td>\n",
       "      <td>5.0</td>\n",
       "      <td>6</td>\n",
       "      <td>7</td>\n",
       "      <td>1.166667</td>\n",
       "      <td>550.04</td>\n",
       "      <td>5.00</td>\n",
       "      <td>1.00</td>\n",
       "      <td>0.00</td>\n",
       "      <td>0</td>\n",
       "      <td>455.004</td>\n",
       "      <td>455.004</td>\n",
       "    </tr>\n",
       "    <tr>\n",
       "      <th>2965</th>\n",
       "      <td>e603cf3fec55f8697c9059638d6c8eb5</td>\n",
       "      <td>pelotas</td>\n",
       "      <td>RS</td>\n",
       "      <td>0.000000</td>\n",
       "      <td>6.657634</td>\n",
       "      <td>2017-02-09 02:43:17</td>\n",
       "      <td>2017-06-16 17:30:16</td>\n",
       "      <td>4.0</td>\n",
       "      <td>8</td>\n",
       "      <td>11</td>\n",
       "      <td>1.375000</td>\n",
       "      <td>297.00</td>\n",
       "      <td>4.25</td>\n",
       "      <td>0.50</td>\n",
       "      <td>0.00</td>\n",
       "      <td>50</td>\n",
       "      <td>349.700</td>\n",
       "      <td>299.700</td>\n",
       "    </tr>\n",
       "    <tr>\n",
       "      <th>2966</th>\n",
       "      <td>9e25199f6ef7e7c347120ff175652c3b</td>\n",
       "      <td>taubate</td>\n",
       "      <td>SP</td>\n",
       "      <td>0.000000</td>\n",
       "      <td>8.199456</td>\n",
       "      <td>2017-03-27 10:10:27</td>\n",
       "      <td>2017-03-27 10:10:27</td>\n",
       "      <td>0.0</td>\n",
       "      <td>1</td>\n",
       "      <td>1</td>\n",
       "      <td>1.000000</td>\n",
       "      <td>12.50</td>\n",
       "      <td>4.00</td>\n",
       "      <td>0.00</td>\n",
       "      <td>0.00</td>\n",
       "      <td>0</td>\n",
       "      <td>1.250</td>\n",
       "      <td>1.250</td>\n",
       "    </tr>\n",
       "  </tbody>\n",
       "</table>\n",
       "<p>2967 rows × 18 columns</p>\n",
       "</div>"
      ],
      "text/plain": [
       "                             seller_id        seller_city seller_state  \\\n",
       "0     3442f8959a84dea7ee197c632cb2df15           campinas           SP   \n",
       "1     d1b65fc7debc3361ea86b5f14c68d2e2         mogi guacu           SP   \n",
       "2     ce3ad9de960102d0677a81f5d0bb7b2d     rio de janeiro           RJ   \n",
       "3     c0f3eea2e14555b6faeea3dd58c1b1c3          sao paulo           SP   \n",
       "4     51a04a8a6bdcb23deccc82b0b80742cf  braganca paulista           SP   \n",
       "...                                ...                ...          ...   \n",
       "2962  98dddbc4601dd4443ca174359b237166            sarandi           PR   \n",
       "2963  f8201cab383e484733266d1906e2fdfa            palhoca           SC   \n",
       "2964  74871d19219c7d518d0090283e03c137          sao paulo           SP   \n",
       "2965  e603cf3fec55f8697c9059638d6c8eb5            pelotas           RS   \n",
       "2966  9e25199f6ef7e7c347120ff175652c3b            taubate           SP   \n",
       "\n",
       "      delay_to_carrier  wait_time     date_first_sale      date_last_sale  \\\n",
       "0             0.000000  13.018588 2017-05-05 16:25:11 2017-08-30 12:50:19   \n",
       "1             0.000000   9.065716 2017-03-29 02:10:34 2018-06-06 20:15:21   \n",
       "2             0.000000   4.042292 2018-07-30 12:44:49 2018-07-30 12:44:49   \n",
       "3             0.000000   5.667187 2018-08-03 00:44:08 2018-08-03 00:44:08   \n",
       "4             3.353727  35.314861 2017-11-14 12:15:25 2017-11-14 12:15:25   \n",
       "...                ...        ...                 ...                 ...   \n",
       "2962          0.000000   8.230822 2018-07-14 03:10:19 2018-07-23 15:34:03   \n",
       "2963          0.000000  13.045797 2017-06-17 15:30:11 2018-08-11 19:55:17   \n",
       "2964          0.000000   3.606625 2018-04-05 17:09:46 2018-08-21 19:25:15   \n",
       "2965          0.000000   6.657634 2017-02-09 02:43:17 2017-06-16 17:30:16   \n",
       "2966          0.000000   8.199456 2017-03-27 10:10:27 2017-03-27 10:10:27   \n",
       "\n",
       "      months_on_olist  n_orders  quantity  quantity_per_order     sales  \\\n",
       "0                 4.0         3         3            1.000000    218.70   \n",
       "1                14.0        40        41            1.025000  11703.07   \n",
       "2                 0.0         1         1            1.000000    158.00   \n",
       "3                 0.0         1         1            1.000000     79.99   \n",
       "4                 0.0         1         1            1.000000    167.99   \n",
       "...               ...       ...       ...                 ...       ...   \n",
       "2962              0.0         2         2            1.000000    158.00   \n",
       "2963             14.0        10        10            1.000000    889.00   \n",
       "2964              5.0         6         7            1.166667    550.04   \n",
       "2965              4.0         8        11            1.375000    297.00   \n",
       "2966              0.0         1         1            1.000000     12.50   \n",
       "\n",
       "      review_score  share_of_five_stars  share_of_one_stars  cost_of_reviews  \\\n",
       "0             3.00                 0.33                0.33              140   \n",
       "1             4.55                 0.72                0.05              240   \n",
       "2             5.00                 1.00                0.00                0   \n",
       "3             5.00                 1.00                0.00                0   \n",
       "4             1.00                 0.00                1.00              100   \n",
       "...            ...                  ...                 ...              ...   \n",
       "2962          5.00                 1.00                0.00                0   \n",
       "2963          4.10                 0.50                0.10              140   \n",
       "2964          5.00                 1.00                0.00                0   \n",
       "2965          4.25                 0.50                0.00               50   \n",
       "2966          4.00                 0.00                0.00                0   \n",
       "\n",
       "      revenues   profits  \n",
       "0      341.870   201.870  \n",
       "1     2290.307  2050.307  \n",
       "2       15.800    15.800  \n",
       "3        7.999     7.999  \n",
       "4       16.799   -83.201  \n",
       "...        ...       ...  \n",
       "2962    15.800    15.800  \n",
       "2963  1208.900  1068.900  \n",
       "2964   455.004   455.004  \n",
       "2965   349.700   299.700  \n",
       "2966     1.250     1.250  \n",
       "\n",
       "[2967 rows x 18 columns]"
      ]
     },
     "execution_count": 13,
     "metadata": {},
     "output_type": "execute_result"
    }
   ],
   "source": [
    "seller = Seller()\n",
    "df = seller.get_training_data()\n",
    "df"
   ]
  },
  {
   "cell_type": "code",
   "execution_count": 14,
   "metadata": {
    "execution": {
     "iopub.execute_input": "2025-09-18T05:59:51.366033Z",
     "iopub.status.busy": "2025-09-18T05:59:51.365702Z",
     "iopub.status.idle": "2025-09-18T05:59:51.379645Z",
     "shell.execute_reply": "2025-09-18T05:59:51.378204Z",
     "shell.execute_reply.started": "2025-09-18T05:59:51.366008Z"
    }
   },
   "outputs": [
    {
     "name": "stdout",
     "output_type": "stream",
     "text": [
      "Total sellers: 2967\n",
      "Total items sold: 112,441\n",
      "\n",
      "Top 5 most profitable sellers:\n",
      "                          seller_id   revenues  cost_of_reviews    profits\n",
      "0  53243585a1d6dc2643021fd1853d8905  23237.605             5170  18067.605\n",
      "1  7e93a43ef30c4f03f38b393420bc753a  19323.187             4700  14623.187\n",
      "2  fa1c13f2614d7b5c4749cbc52fecda94  21004.203             6510  14494.203\n",
      "3  edb1ef5e36e0c8cd84eb3c9b003e486d   8808.455             1520   7288.455\n",
      "4  46dc3b2cc0980fb8ec44634e21d2718e  14651.119             7500   7151.119\n"
     ]
    }
   ],
   "source": [
    "print(f\"Total sellers: {len(df)}\")\n",
    "print(f\"Total items sold: {df['quantity'].sum():,.0f}\")\n",
    "\n",
    "# Sort by profits (highest to lowest)\n",
    "df_sorted = df.sort_values('profits', ascending=False).reset_index(drop=True)\n",
    "\n",
    "print(\"\\nTop 5 most profitable sellers:\")\n",
    "print(df_sorted[['seller_id', 'revenues', 'cost_of_reviews', 'profits']].head())"
   ]
  },
  {
   "cell_type": "markdown",
   "metadata": {
    "execution": {
     "iopub.execute_input": "2025-09-17T19:43:40.532990Z",
     "iopub.status.busy": "2025-09-17T19:43:40.532415Z",
     "iopub.status.idle": "2025-09-17T19:43:40.540511Z",
     "shell.execute_reply": "2025-09-17T19:43:40.538597Z",
     "shell.execute_reply.started": "2025-09-17T19:43:40.532947Z"
    }
   },
   "source": [
    "#### Step 3️⃣"
   ]
  },
  {
   "cell_type": "code",
   "execution_count": 5,
   "metadata": {
    "execution": {
     "iopub.execute_input": "2025-09-17T19:43:54.928664Z",
     "iopub.status.busy": "2025-09-17T19:43:54.928073Z",
     "iopub.status.idle": "2025-09-17T19:43:54.955401Z",
     "shell.execute_reply": "2025-09-17T19:43:54.953758Z",
     "shell.execute_reply.started": "2025-09-17T19:43:54.928626Z"
    }
   },
   "outputs": [
    {
     "name": "stdout",
     "output_type": "stream",
     "text": [
      "Cumulative calculations completed!\n"
     ]
    }
   ],
   "source": [
    "# 3️⃣ Calculate profits:\n",
    "# Calculate the cumulative profits for each row\n",
    "df_sorted['cumul_profits'] = df_sorted['profits'].cumsum()\n",
    "\n",
    "# Calculate the cumulative IT costs for each row using the function i defined before\n",
    "df_sorted['cumul_sellers'] = range(1, len(df_sorted) + 1)\n",
    "df_sorted['cumul_items'] = df_sorted['quantity'].cumsum()\n",
    "\n",
    "df_sorted['cumul_it_costs'] = [calculate_it_costs(s, i) for s, i in \n",
    "                               zip(df_sorted['cumul_sellers'], df_sorted['cumul_items'])]\n",
    "\n",
    "# Calculate the cumulative net profit for each row\n",
    "df_sorted['net_profit'] = df_sorted['cumul_profits'] - df_sorted['cumul_it_costs']\n",
    "\n",
    "print(\"Cumulative calculations completed!\")"
   ]
  },
  {
   "cell_type": "markdown",
   "metadata": {
    "execution": {
     "iopub.execute_input": "2025-09-17T19:44:50.957377Z",
     "iopub.status.busy": "2025-09-17T19:44:50.956986Z",
     "iopub.status.idle": "2025-09-17T19:44:50.962158Z",
     "shell.execute_reply": "2025-09-17T19:44:50.960761Z",
     "shell.execute_reply.started": "2025-09-17T19:44:50.957351Z"
    }
   },
   "source": [
    "#### Step 4️⃣"
   ]
  },
  {
   "cell_type": "code",
   "execution_count": 7,
   "metadata": {
    "execution": {
     "iopub.execute_input": "2025-09-17T19:45:11.386093Z",
     "iopub.status.busy": "2025-09-17T19:45:11.385597Z",
     "iopub.status.idle": "2025-09-17T19:45:11.891321Z",
     "shell.execute_reply": "2025-09-17T19:45:11.889666Z",
     "shell.execute_reply.started": "2025-09-17T19:45:11.386056Z"
    }
   },
   "outputs": [
    {
     "data": {
      "image/png": "[encoded data removed]",
      "text/plain": [
       "<Figure size 1200x500 with 2 Axes>"
      ]
     },
     "metadata": {},
     "output_type": "display_data"
    }
   ],
   "source": [
    "# 4️⃣ Plot your results, and analyze them\n",
    "plt.figure(figsize=(12, 5))\n",
    "\n",
    "plt.subplot(1, 2, 1)\n",
    "plt.plot(df_sorted['cumul_sellers'], df_sorted['cumul_profits'], label='Before IT costs')\n",
    "plt.plot(df_sorted['cumul_sellers'], df_sorted['net_profit'], label='After IT costs')\n",
    "plt.xlabel('Number of Sellers')\n",
    "plt.ylabel('Cumulative Profit (BRL)')\n",
    "plt.title('Profit Analysis: Before vs After IT Costs')\n",
    "plt.legend()\n",
    "plt.grid(True)\n",
    "\n",
    "plt.subplot(1, 2, 2)\n",
    "plt.plot(df_sorted['cumul_sellers'], df_sorted['cumul_it_costs'], color='orange')\n",
    "plt.xlabel('Number of Sellers')\n",
    "plt.ylabel('IT Costs (BRL)')\n",
    "plt.title('IT Costs Growth')\n",
    "plt.grid(True)\n",
    "\n",
    "plt.tight_layout()\n",
    "plt.show()"
   ]
  },
  {
   "cell_type": "markdown",
   "metadata": {},
   "source": [
    "#### Step 5️⃣"
   ]
  },
  {
   "cell_type": "code",
   "execution_count": 8,
   "metadata": {
    "execution": {
     "iopub.execute_input": "2025-09-17T19:45:53.073966Z",
     "iopub.status.busy": "2025-09-17T19:45:53.073430Z",
     "iopub.status.idle": "2025-09-17T19:45:53.085136Z",
     "shell.execute_reply": "2025-09-17T19:45:53.084031Z",
     "shell.execute_reply.started": "2025-09-17T19:45:53.073922Z"
    }
   },
   "outputs": [
    {
     "name": "stdout",
     "output_type": "stream",
     "text": [
      "Optimal number of sellers: 2117\n",
      "\n",
      "What would have been the impact on:\n",
      "• Net profit after IT costs: 1,089,861 BRL\n",
      "• Net profit before IT costs: 1,486,365 BRL\n",
      "• IT costs: 396,504 BRL\n",
      "• Total revenues: 2,807,418 BRL\n",
      "• Number of sellers: 2117\n",
      "• Number of items sold: 65,960\n"
     ]
    }
   ],
   "source": [
    "# 5️⃣ Determine the optimum number of sellers to keep, based on profits before and after IT costs\n",
    "# (Hint: look up np.argmax)\n",
    "optimal_idx = np.argmax(df_sorted['net_profit'])\n",
    "optimal_sellers = optimal_idx + 1\n",
    "\n",
    "print(f\"Optimal number of sellers: {optimal_sellers}\")\n",
    "\n",
    "# Impact analysis\n",
    "optimal_row = df_sorted.iloc[optimal_idx]\n",
    "\n",
    "print(f\"\\nWhat would have been the impact on:\")\n",
    "print(f\"• Net profit after IT costs: {optimal_row['net_profit']:,.0f} BRL\")\n",
    "print(f\"• Net profit before IT costs: {optimal_row['cumul_profits']:,.0f} BRL\")\n",
    "print(f\"• IT costs: {optimal_row['cumul_it_costs']:,.0f} BRL\")\n",
    "print(f\"• Total revenues: {df_sorted['revenues'].sum():,.0f} BRL\")\n",
    "print(f\"• Number of sellers: {optimal_sellers}\")\n",
    "print(f\"• Number of items sold: {optimal_row['cumul_items']:,.0f}\")"
   ]
  },
  {
   "cell_type": "markdown",
   "metadata": {
    "execution": {
     "iopub.execute_input": "2025-09-17T19:46:20.608258Z",
     "iopub.status.busy": "2025-09-17T19:46:20.607629Z",
     "iopub.status.idle": "2025-09-17T19:46:20.616552Z",
     "shell.execute_reply": "2025-09-17T19:46:20.614432Z",
     "shell.execute_reply.started": "2025-09-17T19:46:20.608212Z"
    }
   },
   "source": [
    "#### Step 6️⃣"
   ]
  },
  {
   "cell_type": "code",
   "execution_count": 10,
   "metadata": {
    "execution": {
     "iopub.execute_input": "2025-09-17T19:46:39.636717Z",
     "iopub.status.busy": "2025-09-17T19:46:39.636072Z",
     "iopub.status.idle": "2025-09-17T19:46:39.646888Z",
     "shell.execute_reply": "2025-09-17T19:46:39.645463Z",
     "shell.execute_reply.started": "2025-09-17T19:46:39.636662Z"
    }
   },
   "outputs": [
    {
     "name": "stdout",
     "output_type": "stream",
     "text": [
      "Comparison with keeping all sellers:\n",
      "• Current (all 2967 sellers): 689,209 BRL\n",
      "• Optimized (2117 sellers): 1,089,861 BRL\n",
      "• Improvement: +400,652 BRL\n",
      "• Sellers to remove: 850\n",
      "\n",
      "IT costs represent 26.7% of gross profits at optimal point\n",
      "IT costs are very significant in this analysis\n"
     ]
    }
   ],
   "source": [
    "# 6️⃣ How important were the IT costs in your analysis?\n",
    "current_all_sellers = len(df)\n",
    "current_net_all = df_sorted['net_profit'].iloc[-1]\n",
    "improvement = optimal_row['net_profit'] - current_net_all\n",
    "sellers_to_remove = current_all_sellers - optimal_sellers\n",
    "\n",
    "print(f\"Comparison with keeping all sellers:\")\n",
    "print(f\"• Current (all {current_all_sellers} sellers): {current_net_all:,.0f} BRL\")\n",
    "print(f\"• Optimized ({optimal_sellers} sellers): {optimal_row['net_profit']:,.0f} BRL\")\n",
    "print(f\"• Improvement: +{improvement:,.0f} BRL\")\n",
    "print(f\"• Sellers to remove: {sellers_to_remove}\")\n",
    "\n",
    "it_cost_importance = optimal_row['cumul_it_costs'] / optimal_row['cumul_profits'] * 100\n",
    "print(f\"\\nIT costs represent {it_cost_importance:.1f}% of gross profits at optimal point\")\n",
    "\n",
    "if it_cost_importance > 15:\n",
    "    print(\"IT costs are very significant in this analysis\")\n",
    "else:\n",
    "    print(\"IT costs have moderate impact on the analysis\")"
   ]
  },
  {
   "cell_type": "code",
   "execution_count": 11,
   "metadata": {
    "execution": {
     "iopub.execute_input": "2025-09-17T19:47:12.262072Z",
     "iopub.status.busy": "2025-09-17T19:47:12.261497Z",
     "iopub.status.idle": "2025-09-17T19:47:12.272100Z",
     "shell.execute_reply": "2025-09-17T19:47:12.270678Z",
     "shell.execute_reply.started": "2025-09-17T19:47:12.262034Z"
    }
   },
   "outputs": [
    {
     "name": "stdout",
     "output_type": "stream",
     "text": [
      "Final insights:\n",
      "• 371 sellers are currently unprofitable\n",
      "• Remove 850 worst performing sellers\n",
      "• This increases net profit by 400,652 BRL\n",
      "• IT costs scale with √(sellers) + √(items), creating optimization opportunity\n",
      "• Recommendation: Focus on seller quality over quantity\n"
     ]
    }
   ],
   "source": [
    "# Summary insights\n",
    "unprofitable_sellers = (df['profits'] < 0).sum()\n",
    "\n",
    "print(\"Final insights:\")\n",
    "print(f\"• {unprofitable_sellers} sellers are currently unprofitable\")\n",
    "print(f\"• Remove {sellers_to_remove} worst performing sellers\")\n",
    "print(f\"• This increases net profit by {improvement:,.0f} BRL\")\n",
    "print(f\"• IT costs scale with √(sellers) + √(items), creating optimization opportunity\")\n",
    "print(\"• Recommendation: Focus on seller quality over quantity\")"
   ]
  },
  {
   "cell_type": "markdown",
   "metadata": {},
   "source": [
    "## 3. Investigate other Approaches 🕵️\n",
    "*(optional)*"
   ]
  },
  {
   "cell_type": "markdown",
   "metadata": {},
   "source": [
    "- Should Olist remove the worst performing products / categories from its marketplace entirely?\n",
    "- Should Olist remove only consistently underperforming sellers, after a honeymoon period of a few months?\n",
    "- Should Olist enforce sellers to include certain information on their product listings?\n",
    "- Should Olist ask customers for purchase confirmation at certain times of day?\n",
    "- Should Olist restrict seller/customer pairs between certain states to avoid delays?\n",
    "- Should Olist acquire new sellers, with some cost assumptions to be suggested?\n",
    "- ...\n"
   ]
  },
  {
   "cell_type": "markdown",
   "metadata": {},
   "source": [
    "## Your turn!"
   ]
  },
  {
   "cell_type": "markdown",
   "metadata": {},
   "source": [
    "🧺 Keep this notebook tidy! \n",
    "\n",
    "🗣 📊 You will present your insights to your favorite TA at the end of this `Communicate` unit 💪"
   ]
  },
  {
   "cell_type": "code",
   "execution_count": null,
   "metadata": {},
   "outputs": [],
   "source": []
  }
 ],
 "metadata": {
  "kernelspec": {
   "display_name": "Python 3 (ipykernel)",
   "language": "python",
   "name": "python3"
  },
  "language_info": {
   "codemirror_mode": {
    "name": "ipython",
    "version": 3
   },
   "file_extension": ".py",
   "mimetype": "text/x-python",
   "name": "python",
   "nbconvert_exporter": "python",
   "pygments_lexer": "ipython3",
   "version": "3.12.9"
  }
 },
 "nbformat": 4,
 "nbformat_minor": 4
}
